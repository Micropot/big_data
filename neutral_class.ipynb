{
 "cells": [
  {
   "cell_type": "code",
   "execution_count": 63,
   "metadata": {},
   "outputs": [],
   "source": [
    "import numpy as np\n",
    "import pandas as pd\n",
    "from sklearn import linear_model"
   ]
  },
  {
   "cell_type": "code",
   "execution_count": 73,
   "metadata": {},
   "outputs": [],
   "source": [
    "def create_synthetic_dataset(N, shuffle):\n",
    "    print(\"---------------- array and neutral class creation ----------------\")\n",
    "    # random array\n",
    "    prescription = np.full(N, fill_value='acetominophen', dtype='U20')\n",
    "    prescription[:N//2] = 'ibuprofen'\n",
    "    # half of the set is acetominophen and the other half is ibuprofen\n",
    "    # we shuffle the list\n",
    "    np.random.shuffle(prescription)\n",
    "    #print(\"prescription : \",prescription)\n",
    "    \n",
    "    # neutral class \n",
    "    p_neutral = np.full(N, fill_value='Neutral', dtype='U20')\n",
    "    #print(\"p_neutral : \", p_neutral)\n",
    "    #print(\"---------------- liver disease ----------------\")\n",
    "    # 10% is the patients with history of liver disease\n",
    "    jaundice = np.zeros(N, dtype=bool)\n",
    "    #print(\"jaundice : \", jaundice)\n",
    "    #1/10th of the list is going to be true \n",
    "    jaundice[0:N//10] = True\n",
    "    #print(\"jaundice_new : \", jaundice)\n",
    "    prescription[0:N//10] = 'ibuprofen'\n",
    "    p_neutral[0:N//10] = 'ibuprofen'\n",
    "    #print(\"prescription_new : \", prescription)\n",
    "    #print(\"p_neutral_new : \", p_neutral)\n",
    "    \n",
    "    #print(\"---------------- stomach problems ----------------\")\n",
    "    # 10% is patients with history of stomach problems\n",
    "    ulcers = np.zeros(N, dtype=bool)\n",
    "    ulcers[(9*N)//10:] = True\n",
    "    prescription[(9*N)//10:] = 'acetominophen'\n",
    "    p_neutral[(9*N)//10:] = 'acetominophen'\n",
    "    #print(\"ulcers : \", ulcers)\n",
    "    #print(\"prescription_stomach : \", prescription)\n",
    "    #print(\"p_neutral_stomach : \", p_neutral)\n",
    "    \n",
    "    # Dataframe creation\n",
    "    df = pd.DataFrame.from_dict({\n",
    "        'jaundice': jaundice,\n",
    "        'ulcers': ulcers,\n",
    "        'prescription': prescription,\n",
    "        'prescription_with_neutral': p_neutral\n",
    "    })\n",
    "    \n",
    "    if shuffle:\n",
    "        return df.sample(frac=1).reset_index(drop=True)\n",
    "    else:\n",
    "        return df\n",
    "        "
   ]
  },
  {
   "cell_type": "code",
   "execution_count": 81,
   "metadata": {},
   "outputs": [
    {
     "name": "stdout",
     "output_type": "stream",
     "text": [
      "---------------- array and neutral class creation ----------------\n"
     ]
    }
   ],
   "source": [
    "df = create_synthetic_dataset(1000, False)"
   ]
  },
  {
   "cell_type": "code",
   "execution_count": 82,
   "metadata": {},
   "outputs": [
    {
     "name": "stdout",
     "output_type": "stream",
     "text": [
      "label=prescription accuracy=0.215\n",
      "label=prescription_with_neutral accuracy=0.5\n"
     ]
    }
   ],
   "source": [
    "for label in ['prescription', 'prescription_with_neutral']:\n",
    "    ntrain = 8*len(df)//10 # 80% of data for training\n",
    "    lm = linear_model.LogisticRegression()\n",
    "    lm = lm.fit(df.loc[:ntrain-1, ['jaundice', 'ulcers']], df[label][:ntrain])\n",
    "    acc = lm.score(df.loc[ntrain:, ['jaundice', 'ulcers']], df[label][ntrain:])\n",
    "    print('label={} accuracy={}'.format(label, acc))\n"
   ]
  },
  {
   "cell_type": "code",
   "execution_count": 83,
   "metadata": {},
   "outputs": [
    {
     "name": "stdout",
     "output_type": "stream",
     "text": [
      "---------------- array and neutral class creation ----------------\n",
      "     jaundice  ulcers   prescription prescription_with_neutral\n",
      "0       False   False      ibuprofen                   Neutral\n",
      "1       False   False      ibuprofen                   Neutral\n",
      "2       False   False  acetominophen                   Neutral\n",
      "3       False   False      ibuprofen                   Neutral\n",
      "4       False   False      ibuprofen                   Neutral\n",
      "..        ...     ...            ...                       ...\n",
      "995     False   False      ibuprofen                   Neutral\n",
      "996     False   False      ibuprofen                   Neutral\n",
      "997     False    True  acetominophen             acetominophen\n",
      "998     False   False      ibuprofen                   Neutral\n",
      "999     False   False  acetominophen                   Neutral\n",
      "\n",
      "[1000 rows x 4 columns]\n",
      "label=prescription accuracy=0.595\n",
      "label=prescription_with_neutral accuracy=1.0\n"
     ]
    }
   ],
   "source": [
    "df = create_synthetic_dataset(1000, True)\n",
    "print(df)\n",
    "\n",
    "for label in ['prescription', 'prescription_with_neutral']:\n",
    "    ntrain = 8*len(df)//10 # 80% of data for training\n",
    "    lm = linear_model.LogisticRegression()\n",
    "    lm = lm.fit(df.loc[:ntrain-1, ['jaundice', 'ulcers']], df[label][:ntrain])\n",
    "    acc = lm.score(df.loc[ntrain:, ['jaundice', 'ulcers']], df[label][ntrain:])\n",
    "    print('label={} accuracy={}'.format(label, acc))\n"
   ]
  },
  {
   "attachments": {},
   "cell_type": "markdown",
   "metadata": {},
   "source": [
    "## In the real world"
   ]
  },
  {
   "cell_type": "code",
   "execution_count": 88,
   "metadata": {},
   "outputs": [
    {
     "name": "stderr",
     "output_type": "stream",
     "text": [
      "UsageError: Cell magic `%%bigquery` not found.\n"
     ]
    }
   ],
   "source": [
    "%%bigquery\n",
    "CREATE OR REPLACE MODEL mlpatterns.neutral_2classes\n",
    "OPTIONS(model_type='logistic_reg', input_label_cols=['health']) AS\n",
    "\n",
    "SELECT \n",
    "  IF(apgar_1min >= 9, 'Healthy', 'NeedsAttention') AS health,\n",
    "  plurality,\n",
    "  mother_age,\n",
    "  gestation_weeks,\n",
    "  ever_born\n",
    "FROM `bigquery-public-data.samples.natality`\n",
    "WHERE apgar_1min <= 10"
   ]
  },
  {
   "attachments": {},
   "cell_type": "markdown",
   "metadata": {},
   "source": []
  },
  {
   "cell_type": "code",
   "execution_count": null,
   "metadata": {},
   "outputs": [],
   "source": []
  }
 ],
 "metadata": {
  "kernelspec": {
   "display_name": "Python_prog",
   "language": "python",
   "name": "python3"
  },
  "language_info": {
   "codemirror_mode": {
    "name": "ipython",
    "version": 3
   },
   "file_extension": ".py",
   "mimetype": "text/x-python",
   "name": "python",
   "nbconvert_exporter": "python",
   "pygments_lexer": "ipython3",
   "version": "3.8.16"
  },
  "orig_nbformat": 4
 },
 "nbformat": 4,
 "nbformat_minor": 2
}
