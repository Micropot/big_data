{
 "cells": [
  {
   "cell_type": "code",
   "execution_count": 3,
   "metadata": {},
   "outputs": [],
   "source": [
    "import numpy as np\n",
    "import pandas as pd"
   ]
  },
  {
   "cell_type": "code",
   "execution_count": 14,
   "metadata": {},
   "outputs": [],
   "source": [
    "def create_synthetic_dataset(N, shuffle):\n",
    "    # random array\n",
    "    prescription = np.full(N, fill_value='acetominophen', dtype='U20')\n",
    "    prescription[:N//2] = 'ibuprofen'\n",
    "    # half of the set is acetominophen and the other half is ibuprofen\n",
    "    # we shuffle the list\n",
    "    np.random.shuffle(prescription)\n",
    "    print(\"prescription : \",prescription)\n",
    "    "
   ]
  },
  {
   "cell_type": "code",
   "execution_count": 17,
   "metadata": {},
   "outputs": [
    {
     "name": "stdout",
     "output_type": "stream",
     "text": [
      "['acetominophen' 'acetominophen' 'ibuprofen' 'acetominophen' 'ibuprofen'\n",
      " 'acetominophen' 'ibuprofen' 'ibuprofen' 'ibuprofen' 'acetominophen']\n"
     ]
    }
   ],
   "source": [
    "create_synthetic_dataset(10, False)"
   ]
  },
  {
   "cell_type": "code",
   "execution_count": null,
   "metadata": {},
   "outputs": [],
   "source": []
  }
 ],
 "metadata": {
  "kernelspec": {
   "display_name": "Python_prog",
   "language": "python",
   "name": "python3"
  },
  "language_info": {
   "codemirror_mode": {
    "name": "ipython",
    "version": 3
   },
   "file_extension": ".py",
   "mimetype": "text/x-python",
   "name": "python",
   "nbconvert_exporter": "python",
   "pygments_lexer": "ipython3",
   "version": "3.8.16"
  },
  "orig_nbformat": 4
 },
 "nbformat": 4,
 "nbformat_minor": 2
}
